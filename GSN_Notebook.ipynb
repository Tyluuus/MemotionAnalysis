{
  "nbformat": 4,
  "nbformat_minor": 0,
  "metadata": {
    "colab": {
      "name": "GSN_Notebook.ipynb",
      "provenance": [],
      "collapsed_sections": [],
      "include_colab_link": true
    },
    "kernelspec": {
      "name": "python3",
      "display_name": "Python 3"
    },
    "language_info": {
      "name": "python"
    },
    "accelerator": "GPU"
  },
  "cells": [
    {
      "cell_type": "markdown",
      "metadata": {
        "id": "view-in-github",
        "colab_type": "text"
      },
      "source": [
        "<a href=\"https://colab.research.google.com/github/Tyluuus/MemotionAnalysis/blob/main/GSN_Notebook.ipynb\" target=\"_parent\"><img src=\"https://colab.research.google.com/assets/colab-badge.svg\" alt=\"Open In Colab\"/></a>"
      ]
    },
    {
      "cell_type": "markdown",
      "source": [
        "# GSN21Z Projekt "
      ],
      "metadata": {
        "id": "1rBvyUIKhIm3"
      }
    },
    {
      "cell_type": "markdown",
      "source": [
        "Celem projektu będzie realizacja tasku B znajdującego się pod challengem Memotion na platformie Kaggle: https://www.kaggle.com/williamscott701/memotion-dataset-7k\n",
        "\n",
        "\n",
        "Treść zadania: *Task B- Humor Classification: Given an Internet meme, the system has to identify the type of humor expressed. The categories are sarcastic, humorous, and offensive meme. If a meme does not fall under any of these categories, then it is marked as another meme. A meme can have more than one category.*\n",
        "\n",
        "\n",
        "\n"
      ],
      "metadata": {
        "id": "HzZuFchUhK59"
      }
    },
    {
      "cell_type": "markdown",
      "source": [
        "Dataset: W datasecie znajduje się 6992 memów pobranych z platformy reddit oraz oznaczonych z wykorzystaniem usługi Amazon Mechanical Turk. Oznaczenia znajdują się w pliku csv, który zawiera: \n",
        "1.   Nazwę pliku z memem\n",
        "2.   Tekst uzyskany z wykorzystaniem OCR\n",
        "3.   Tekst poprawiony\n",
        "4.   Klasa humorystyczna\n",
        "5.   Klasa sarkastyczna\n",
        "6.   Klasa ofensywna\n",
        "7.   Klasa motywacyjna\n"
      ],
      "metadata": {
        "id": "E0WtWWldhMuM"
      }
    },
    {
      "cell_type": "markdown",
      "source": [
        "## Gałąź przetwarzania obrazów"
      ],
      "metadata": {
        "id": "NtI-EnR9hPkt"
      }
    },
    {
      "cell_type": "code",
      "source": [
        "# Use trained model variable\n",
        "use_trained_model = True\n",
        "save_model = True\n",
        "image_save_model_path = './drive/MyDrive/GSN_dataset/memotion_images_model_1_epoch.pt'\n",
        "text_save_model_path = './drive/MyDrive/GSN_dataset/memotion_text_model_1_epoch.pt'\n",
        "image_load_model_path = './MemotionAnalysis/memotion_images_model_1_epoch.pt'\n",
        "text_load_model_path = './MemotionAnalysis/memotion_text_model_1_epoch.pt'"
      ],
      "metadata": {
        "id": "B6v2cyDH1dKR"
      },
      "execution_count": 1,
      "outputs": []
    },
    {
      "cell_type": "code",
      "source": [
        "text_epochs = 1 # 250\n",
        "image_epochs = 1 # 20\n",
        "text_batch_size = 4\n",
        "image_batch_size = 16\n",
        "\n",
        "same_batch_size = 4"
      ],
      "metadata": {
        "id": "XYO4NllQebSK"
      },
      "execution_count": 2,
      "outputs": []
    },
    {
      "cell_type": "code",
      "source": [
        "#sklonowanie repozytorium z githuba - pobranie plików składających się na dataset - zdjęć oraz pliku csv\n",
        "#pobierane są również pliki niezbędne do wczytania modelu sieci\n",
        "!git clone https://github.com/Tyluuus/MemotionAnalysis.git"
      ],
      "metadata": {
        "colab": {
          "base_uri": "https://localhost:8080/"
        },
        "id": "Qo0BnasUhoIN",
        "outputId": "1b8a756d-ef3b-4b68-b6b4-c4963b9bdb1b"
      },
      "execution_count": 3,
      "outputs": [
        {
          "output_type": "stream",
          "name": "stdout",
          "text": [
            "Cloning into 'MemotionAnalysis'...\n",
            "remote: Enumerating objects: 7048, done.\u001b[K\n",
            "remote: Counting objects: 100% (25/25), done.\u001b[K\n",
            "remote: Compressing objects: 100% (23/23), done.\u001b[K\n",
            "remote: Total 7048 (delta 9), reused 8 (delta 2), pack-reused 7023\u001b[K\n",
            "Receiving objects: 100% (7048/7048), 809.00 MiB | 36.96 MiB/s, done.\n",
            "Resolving deltas: 100% (32/32), done.\n",
            "Checking out files: 100% (13991/13991), done.\n"
          ]
        }
      ]
    },
    {
      "cell_type": "code",
      "source": [
        "# Temporary\n",
        "\n",
        "from google.colab import drive\n",
        "drive.mount('/content/drive')"
      ],
      "metadata": {
        "colab": {
          "base_uri": "https://localhost:8080/"
        },
        "id": "CN4cy6KZsxUj",
        "outputId": "09718339-b1b8-4b21-eeba-6445a1bd4078"
      },
      "execution_count": 4,
      "outputs": [
        {
          "output_type": "stream",
          "name": "stdout",
          "text": [
            "Mounted at /content/drive\n"
          ]
        }
      ]
    },
    {
      "cell_type": "code",
      "source": [
        "#Imports\n",
        "\n",
        "import pandas as pd\n",
        "import numpy as np\n",
        "import torch\n",
        "import torch.nn as nn\n",
        "import torch.nn.functional as F\n",
        "import torch.optim as optim\n",
        "from torch.optim import lr_scheduler\n",
        "from torch.autograd import Variable\n",
        "from torch.utils.data import Dataset, DataLoader\n",
        "import cv2\n",
        "import time\n",
        "import copy\n",
        "import os\n",
        "import matplotlib.pyplot as plt\n",
        "import torchvision\n",
        "from torchvision import transforms, datasets, models\n",
        "from PIL import Image\n",
        "from google.colab.patches import cv2_imshow\n",
        "from torchtext.legacy.data import Dataset, Example, Field\n",
        "from torchtext.legacy.data import BucketIterator"
      ],
      "metadata": {
        "id": "4aknJXfFqGaI"
      },
      "execution_count": 5,
      "outputs": []
    },
    {
      "cell_type": "code",
      "source": [
        "# Dictionaries for mapping word classification\n",
        "class_humour_weights = {\"hilarious\": 3, \"not_funny\": 0, \"very_funny\": 2, \"funny\": 1}\n",
        "class_sarcasm_weights = {\"general\": 1, \"not_sarcastic\": 0, \"twisted_meaning\": 2, \"very_twisted\": 3}\n",
        "class_offensive_weights = {\"not_offensive\": 0, \"slight\": 1, \"very_offensive\": 2, \"hateful_offensive\": 3}\n",
        "class_motivational_weights = {\"not_motivational\": 0, \"motivational\": 1}\n",
        "\n",
        "# Directory containing images\n",
        "images_dir = \"./MemotionAnalysis/images/\""
      ],
      "metadata": {
        "id": "v6vAEOVpsjht"
      },
      "execution_count": 6,
      "outputs": []
    },
    {
      "cell_type": "code",
      "source": [
        "# Loading custom dataset into PyTorch class\n",
        "class MyCustomDataset(Dataset):\n",
        "    def __init__(self, csv_path, low_data_mode=False, debug=False):\n",
        "        \"\"\"\n",
        "        Args:\n",
        "          csv_path (string): path to csv file  \n",
        "          debug (boolean): debug mode toogle\n",
        "        \"\"\"\n",
        "        # If system is in debug mode\n",
        "        self.debug = debug\n",
        "\n",
        "\n",
        "        # Read the csv_file\n",
        "        if low_data_mode==True:\n",
        "          self.data_info = pd.read_csv(csv_path, header = 6952)\n",
        "        else:\n",
        "          self.data_info = pd.read_csv(csv_path, header = 3)\n",
        "\n",
        "        # Column containing image names\n",
        "        self.image_arr = np.asarray(self.data_info.iloc[:, 1])\n",
        "        # Columns containing emotions classification\n",
        "        self.humour_arr = np.asarray(self.data_info.iloc[:, 4])\n",
        "        self.sarcasm_arr = np.asarray(self.data_info.iloc[:, 5])\n",
        "        self.offensive_arr = np.asarray(self.data_info.iloc[:, 6])\n",
        "        self.motivational_arr = np.asarray(self.data_info.iloc[:, 7])\n",
        "        \n",
        "        # Transforms performed on loaded image\n",
        "        self.data_transforms = transforms.Compose([\n",
        "                                      transforms.Resize((224, 224)),\n",
        "                                      transforms.RandomHorizontalFlip(),\n",
        "                                      transforms.ToTensor(),\n",
        "                                      transforms.Normalize(mean=[0.485, 0.456, 0.406], std=[0.229, 0.224, 0.225]),\n",
        "        ])\n",
        "        \n",
        "        # Array with class vectors for each image\n",
        "        self.labels = []\n",
        "\n",
        "        # Mapping word classification to 4 numeric classes\n",
        "        for index in range(len(self.humour_arr)):\n",
        "          humour_value = class_humour_weights[self.humour_arr[index]]\n",
        "          sarcasm_value = class_sarcasm_weights[self.sarcasm_arr[index]]\n",
        "          offensive_value = class_offensive_weights[self.offensive_arr[index]]\n",
        "          motivational_value = class_motivational_weights[self.motivational_arr[index]]\n",
        "\n",
        "          if humour_value > sarcasm_value:\n",
        "            if humour_value > offensive_value:\n",
        "              if humour_value > motivational_value:\n",
        "                var = 0\n",
        "              else:\n",
        "                var = 3 \n",
        "            else:\n",
        "              if offensive_value > motivational_value:\n",
        "                var = 2\n",
        "              else: \n",
        "                var = 3\n",
        "          else:\n",
        "            if sarcasm_value > offensive_value:\n",
        "              if sarcasm_value > motivational_value:\n",
        "                var = 1\n",
        "              else:\n",
        "                var = 3\n",
        "            else: \n",
        "              if offensive_value > motivational_value: \n",
        "                var = 2\n",
        "              else:\n",
        "                var = 3\n",
        "\n",
        "          # Creating class vector\n",
        "          lab = [0.0, 0.0, 0.0, 0.0]\n",
        "          lab[var] = 1.0\n",
        "          \n",
        "          # Adding new image class vector to labels array\n",
        "          self.labels.append(lab) \n",
        "\n",
        "        # Calculate of dataset\n",
        "        self.data_len = len(self.data_info.index)\n",
        "        \n",
        "        # Set correct path to images\n",
        "        self.image_arr = images_dir + self.image_arr\n",
        "\n",
        "        \n",
        "    def __getitem__(self, index):\n",
        "        \"\"\"\n",
        "        Args:\n",
        "          index (int): index of item to get  \n",
        "\n",
        "        Returns:\n",
        "          Tuple of image and class vector as tensors\n",
        "        \"\"\"\n",
        "        img_as_img = None\n",
        "        single_image_name = None\n",
        "\n",
        "\n",
        "        try:\n",
        "          # Get image name from pandas df\n",
        "          single_image_name = self.image_arr[index]\n",
        "\n",
        "          # # Open image with PIL and convert to RGB image\n",
        "          img = Image.open(single_image_name).convert('RGB')\n",
        "          if self.debug==True:\n",
        "            print('1:', img)\n",
        "\n",
        "          # Transform image and convert to tensor\n",
        "          img_as_tensor = self.data_transforms(img)\n",
        "\n",
        "          if self.debug==True:\n",
        "            print('2:', img_as_tensor)\n",
        "\n",
        "          # Get class vector of the image from labels array\n",
        "          img_label = self.labels[index]\n",
        "\n",
        "          if self.debug==True:\n",
        "            print('3:',img_label)\n",
        "\n",
        "          # Convert class vector to tensor\n",
        "          img_label = torch.as_tensor(img_label)\n",
        "          \n",
        "          if self.debug==True:\n",
        "            print('4:',img_label)\n",
        "\n",
        "          return (img_as_tensor, img_label)\n",
        "\n",
        "        except:\n",
        "          print(\"Image loading error for:\",single_image_name)\n",
        "          return ('ERROR', torch.tensor([-1]))\n",
        "\n",
        "    def __len__(self):\n",
        "        return self.data_len"
      ],
      "metadata": {
        "id": "qAerCA5Gqd_D"
      },
      "execution_count": 7,
      "outputs": []
    },
    {
      "cell_type": "code",
      "source": [
        "# Switch to using GPU\n",
        "\n",
        "use_gpu = torch.cuda.is_available()\n",
        "if use_gpu:\n",
        "    print(\"Using CUDA\")"
      ],
      "metadata": {
        "id": "hEbiFkj3tuUC"
      },
      "execution_count": 8,
      "outputs": []
    },
    {
      "cell_type": "code",
      "source": [
        "# Loading images into custom dataset\n",
        "dataset = MyCustomDataset('MemotionAnalysis/labels.csv', low_data_mode=False)\n",
        "\n",
        "# Loading dataset into DataLoader and setting batch_size\n",
        "b_size = same_batch_size if use_trained_model else image_batch_size\n",
        "dataloader = torch.utils.data.DataLoader(dataset, batch_size=b_size, shuffle=False, num_workers=1)\n",
        "dataset_size = len(dataloader)"
      ],
      "metadata": {
        "id": "QyONsUPTtxnL"
      },
      "execution_count": 9,
      "outputs": []
    },
    {
      "cell_type": "code",
      "source": [
        "# Text preprocessing\n",
        "\n",
        "meme_text = dataset.data_info.iloc[:, 3]\n",
        "\n",
        "raw_df = []\n",
        "\n",
        "for i in range(len(meme_text)):\n",
        "    raw_df.append([str(meme_text[i]), dataset.labels[i]])\n",
        "\n",
        "df = pd.DataFrame(raw_df[:-3], columns=['text', 'label'])\n",
        "\n",
        "text_field = Field(\n",
        "    sequential=True,\n",
        "    tokenize='basic_english', \n",
        "    fix_length=50,\n",
        "    lower=True\n",
        ")\n",
        "label_field = Field(sequential=False, use_vocab=False)\n",
        "# prepocess\n",
        "preprocessed_text = df['text'].apply(\n",
        "    lambda x: text_field.preprocess(x)\n",
        ")\n",
        "# load fastext simple embedding with 100d\n",
        "text_field.build_vocab(\n",
        "    preprocessed_text, \n",
        "    vectors='glove.6B.100d'\n",
        ")"
      ],
      "metadata": {
        "id": "Rptz647rV-0L",
        "colab": {
          "base_uri": "https://localhost:8080/"
        },
        "outputId": "e400437b-1f77-4504-8260-3ac4fac388b4"
      },
      "execution_count": 10,
      "outputs": [
        {
          "output_type": "stream",
          "name": "stderr",
          "text": [
            ".vector_cache/glove.6B.zip: 862MB [02:40, 5.37MB/s]                           \n",
            "100%|█████████▉| 399999/400000 [00:18<00:00, 21931.20it/s]\n"
          ]
        }
      ]
    },
    {
      "cell_type": "code",
      "source": [
        "class DataFrameDataset(Dataset):\n",
        "    def __init__(self, df: pd.DataFrame, fields: list):\n",
        "        super(DataFrameDataset, self).__init__(\n",
        "            [\n",
        "                Example.fromlist(list(r), fields) for i, r in df.iterrows()\n",
        "            ], \n",
        "            fields\n",
        "        )\n",
        "\n",
        "train_dataset, test_dataset = DataFrameDataset(\n",
        "    df=df, \n",
        "    fields=(\n",
        "        ('text', text_field),\n",
        "        ('label', label_field)\n",
        "    )\n",
        ").split(split_ratio=0.85)\n",
        "\n",
        "b_size = same_batch_size if use_trained_model else text_batch_size\n",
        "\n",
        "train_iter, test_iter = BucketIterator.splits(\n",
        "    datasets=(train_dataset, test_dataset), \n",
        "    batch_sizes=(b_size, b_size),\n",
        "    sort=False\n",
        ")"
      ],
      "metadata": {
        "id": "P6qhrLcvWeyu"
      },
      "execution_count": 11,
      "outputs": []
    },
    {
      "cell_type": "code",
      "source": [
        "# Check loaded data\n",
        "\n",
        "def imshow(inp, title=None):\n",
        "    inp = inp.numpy().transpose((1, 2, 0))\n",
        "    # plt.figure(figsize=(10, 10))\n",
        "    plt.axis('off')\n",
        "    plt.imshow(inp)\n",
        "    if title is not None:\n",
        "        plt.title(title)\n",
        "    plt.pause(0.001)\n",
        "\n",
        "def show_databatch(inputs, classes):\n",
        "    out = torchvision.utils.make_grid(inputs)\n",
        "    imshow(out, title=[classes])\n",
        "\n",
        "# Get a batch of training data\n",
        "inputs, classes = next(iter(dataloader))\n",
        "show_databatch(inputs, classes)"
      ],
      "metadata": {
        "colab": {
          "base_uri": "https://localhost:8080/",
          "height": 393
        },
        "id": "XQ6mkihFuZ0B",
        "outputId": "97043645-ddd5-44c7-9ab8-67f420ec867b"
      },
      "execution_count": null,
      "outputs": [
        {
          "output_type": "stream",
          "name": "stderr",
          "text": [
            "Clipping input data to the valid range for imshow with RGB data ([0..1] for floats or [0..255] for integers).\n"
          ]
        },
        {
          "output_type": "display_data",
          "data": {
            "image/png": "[encoded data removed]",
            "text/plain": [
              "<Figure size 432x288 with 1 Axes>"
            ]
          },
          "metadata": {
            "needs_background": "light"
          }
        }
      ]
    },
    {
      "cell_type": "code",
      "source": [
        "# Load the pretrained model from PyTorch\n",
        "\n",
        "vgg16 = models.vgg16_bn()\n",
        "vgg16.load_state_dict(torch.load(\"./drive/MyDrive/vgg16_bn.pth\")) \n",
        "\n",
        "# Print to see network architecture\n",
        "# print(vgg16)"
      ],
      "metadata": {
        "colab": {
          "base_uri": "https://localhost:8080/"
        },
        "id": "HiM8HLi7umZR",
        "outputId": "09b5bb08-dd8f-4a65-a741-67d814b24b68"
      },
      "execution_count": 12,
      "outputs": [
        {
          "output_type": "execute_result",
          "data": {
            "text/plain": [
              "<All keys matched successfully>"
            ]
          },
          "metadata": {},
          "execution_count": 12
        }
      ]
    },
    {
      "cell_type": "code",
      "source": [
        "# if use_trained_model==False:\n",
        "\n",
        "  # Class with own modification of VGG16 architecture - classifier was changed - \n",
        "  # after getting features from image there is pooling layer, next results are flattened and feed to fully connected layer with output number = 4\n",
        "  # at the end sigmoid function is used\n",
        "\n",
        "class custom_vgg16(nn.Module):\n",
        "    def __init__(self, model):\n",
        "        super(custom_vgg16, self).__init__()\n",
        "\n",
        "        self.features = list(model.features)\n",
        "        self.features = nn.Sequential(*self.features)\n",
        "        self.pooling = model.avgpool\n",
        "        self.flatten = nn.Flatten()\n",
        "        self.fc = nn.Linear(in_features=25088, out_features=4, bias=True)\n",
        "        self.sigm = nn.Sigmoid()\n",
        "\n",
        "    def forward(self, x):\n",
        "        out = self.features(x)\n",
        "        out = self.pooling(out)\n",
        "        out = self.flatten(out)\n",
        "        out = self.fc(out)\n",
        "        out = self.sigm(out)\n",
        "        return out\n"
      ],
      "metadata": {
        "id": "7-AWBscoun7-"
      },
      "execution_count": 13,
      "outputs": []
    },
    {
      "cell_type": "code",
      "source": [
        "# if use_trained_model==False:\n",
        "\n",
        "class ModelParam(object):\n",
        "    def __init__(self, param_dict: dict = dict()):\n",
        "        self.input_size = param_dict.get('input_size', 0)\n",
        "        self.vocab_size = param_dict.get('vocab_size')\n",
        "        self.embedding_dim = param_dict.get('embedding_dim', 100)\n",
        "        self.target_dim = param_dict.get('target_dim')\n",
        "        \n",
        "class TextModel(nn.Module):\n",
        "    def __init__(self, model_param: ModelParam):\n",
        "        super().__init__()\n",
        "        self.embedding = nn.Embedding(model_param.vocab_size, model_param.embedding_dim)\n",
        "        self.conv = nn.Conv1d(50, 4, 1)\n",
        "        self.max_pool = nn.MaxPool1d(2)\n",
        "        self.lstm = nn.LSTM(50,16)\n",
        "        self.fc = nn.Linear(in_features=16, out_features=1, bias=True)\n",
        "        self.sigm = nn.Sigmoid()\n",
        "\n",
        "    def forward(self, x):\n",
        "        features = self.embedding(x)\n",
        "        features = F.relu(features)\n",
        "        features = self.conv(features)\n",
        "        features = self.max_pool(features)\n",
        "        features, hidden = self.lstm(features)\n",
        "        features = self.fc(features)\n",
        "        features = self.sigm(features)\n",
        "        return features"
      ],
      "metadata": {
        "id": "BFVgxQBzX7Fe"
      },
      "execution_count": 14,
      "outputs": []
    },
    {
      "cell_type": "code",
      "source": [
        "# Loading custiom VGG16 from loaded, pretrained VGG16 model\n",
        "vgg16 = custom_vgg16(vgg16)\n",
        "\n",
        "if use_trained_model==True:\n",
        "  vgg16.load_state_dict(torch.load('/content/drive/MyDrive/GSN_dataset/memotion_images_model.pt'))"
      ],
      "metadata": {
        "id": "RcNr3Wd6uph2"
      },
      "execution_count": null,
      "outputs": []
    },
    {
      "cell_type": "code",
      "source": [
        "# Set VGG16 to run on GPU\n",
        "if use_gpu:\n",
        "    vgg16.cuda()\n",
        "    \n",
        "criterion = nn.BCELoss()\n",
        "\n",
        "# Define optimizer and LR Scheduler for training\n",
        "optimizer_ft = optim.SGD(vgg16.parameters(), lr=0.0003)\n",
        "exp_lr_scheduler = lr_scheduler.StepLR(optimizer_ft, step_size=7, gamma=0.1)"
      ],
      "metadata": {
        "id": "IW9Ss-wxuu90"
      },
      "execution_count": null,
      "outputs": []
    },
    {
      "cell_type": "code",
      "source": [
        "# F1 score calculating for image\n",
        "image_f1_data = {\n",
        "    0: {\n",
        "        \"true_positive\": 0.0,\n",
        "        \"false_positive\": 0.0,\n",
        "        \"false_negative\": 0.0\n",
        "    },\n",
        "    1: {\n",
        "        \"true_positive\": 0.0,\n",
        "        \"false_positive\": 0.0,\n",
        "        \"false_negative\": 0.0\n",
        "    },\n",
        "    2: {\n",
        "        \"true_positive\": 0.0,\n",
        "        \"false_positive\": 0.0,\n",
        "        \"false_negative\": 0.0\n",
        "    },\n",
        "    3: {\n",
        "        \"true_positive\": 0.0,\n",
        "        \"false_positive\": 0.0,\n",
        "        \"false_negative\": 0.0\n",
        "    }\n",
        "}\n",
        "\n",
        "def clear_image_f1_data():\n",
        "    for i in range(4):\n",
        "        image_f1_data[i][\"true_positive\"] = 0.0\n",
        "        image_f1_data[i][\"false_positive\"] = 0.0\n",
        "        image_f1_data[i][\"false_negative\"] = 0.0\n",
        "\n",
        "def update_image_f1_data(preditions: list, labels: list):\n",
        "    for i in range(len(preditions)):\n",
        "        if(preditions[i] == labels[i]):\n",
        "            image_f1_data[labels[i]][\"true_positive\"] += 1.0\n",
        "        else:\n",
        "            image_f1_data[labels[i]][\"false_positive\"] += 1.0\n",
        "            image_f1_data[preditions[i]][\"false_negative\"] += 1.0\n",
        "                \n",
        "\n",
        "def calculate_image_f1_for_class(class_number: int):\n",
        "    precision_divider = image_f1_data[class_number][\"true_positive\"]+image_f1_data[class_number][\"false_positive\"]\n",
        "    precision = (image_f1_data[class_number][\"true_positive\"] / precision_divider) if precision_divider > 0 else 0\n",
        "    recall_divider = image_f1_data[class_number][\"true_positive\"]+image_f1_data[class_number][\"false_negative\"]\n",
        "    recall = (image_f1_data[class_number][\"true_positive\"] / recall_divider) if recall_divider > 0 else 0\n",
        "    #print(f\"Precision: {precision} , Recall: {recall} \")\n",
        "    return (2 * (precision * recall) / (precision + recall)) if (precision + recall) > 0 else 0\n",
        "\n",
        "def calculate_image_macro_f1():\n",
        "    macro_f1 = 0.0\n",
        "    for i in range(4):\n",
        "        macro_f1 += calculate_image_f1_for_class(i)\n",
        "    return macro_f1/4"
      ],
      "metadata": {
        "id": "kU4rv8uUXgPw"
      },
      "execution_count": null,
      "outputs": []
    },
    {
      "cell_type": "code",
      "source": [
        "text_f1_data = {\n",
        "    0: {\n",
        "        \"true_positive\": 0.0,\n",
        "        \"false_positive\": 0.0,\n",
        "        \"false_negative\": 0.0\n",
        "    },\n",
        "    1: {\n",
        "        \"true_positive\": 0.0,\n",
        "        \"false_positive\": 0.0,\n",
        "        \"false_negative\": 0.0\n",
        "    },\n",
        "    2: {\n",
        "        \"true_positive\": 0.0,\n",
        "        \"false_positive\": 0.0,\n",
        "        \"false_negative\": 0.0\n",
        "    },\n",
        "    3: {\n",
        "        \"true_positive\": 0.0,\n",
        "        \"false_positive\": 0.0,\n",
        "        \"false_negative\": 0.0\n",
        "    }\n",
        "}\n",
        "\n",
        "def clear_text_f1_data():\n",
        "    for i in range(4):\n",
        "        text_f1_data[i][\"true_positive\"] = 0.0\n",
        "        text_f1_data[i][\"false_positive\"] = 0.0\n",
        "        text_f1_data[i][\"false_negative\"] = 0.0\n",
        "\n",
        "def update_text_f1_data(preditions: list, labels: list):\n",
        "    for i in range(len(preditions)):\n",
        "        if(preditions[i] == labels[i]):\n",
        "            text_f1_data[labels[i]][\"true_positive\"] += 1.0\n",
        "        else:\n",
        "            text_f1_data[labels[i]][\"false_positive\"] += 1.0\n",
        "            text_f1_data[preditions[i]][\"false_negative\"] += 1.0\n",
        "                \n",
        "\n",
        "def calculate_text_f1_for_class(class_number: int):\n",
        "    if text_f1_data[class_number][\"true_positive\"] == 0:\n",
        "      return 0\n",
        "    precision = text_f1_data[class_number][\"true_positive\"] / (text_f1_data[class_number][\"true_positive\"]+text_f1_data[class_number][\"false_positive\"])\n",
        "    recall = text_f1_data[class_number][\"true_positive\"] / (text_f1_data[class_number][\"true_positive\"]+text_f1_data[class_number][\"false_negative\"])\n",
        "    # print(f\"Precision: {precision} , Recall: {recall} \")\n",
        "    return 2 * (precision * recall) / (precision + recall)\n",
        "\n",
        "def calculate_text_macro_f1():\n",
        "    macro_f1 = 0.0\n",
        "    for i in range(4):\n",
        "        macro_f1 += calculate_text_f1_for_class(i)\n",
        "    return macro_f1/4"
      ],
      "metadata": {
        "id": "qgTTp_11Xc7i"
      },
      "execution_count": null,
      "outputs": []
    },
    {
      "cell_type": "code",
      "source": [
        "def classes_convert(classes):\n",
        "  clas = []\n",
        "  for element in range(len(classes)):\n",
        "    var = classes[element]\n",
        "    for index in range(len(var)):\n",
        "      if var[index]==1:\n",
        "        clas.append(index)\n",
        "  return torch.tensor(clas)"
      ],
      "metadata": {
        "id": "vEeAe-_azz_h"
      },
      "execution_count": null,
      "outputs": []
    },
    {
      "cell_type": "code",
      "source": [
        "# Defining training model\n",
        "def train_model(vgg, criterion, optimizer, scheduler, num_epochs=1, debug=False):\n",
        "    \"\"\"\n",
        "    Args:\n",
        "      vgg (nn.Model): Neural Network model to traing\n",
        "      criterion (nn.LossFunction): Loss Function \n",
        "      optimizer (torch.optim): Optimalization Function\n",
        "      scheduler (torch.optim.lr_scheduler): Learning Rate Scheduler\n",
        "      num_epochs (int): Number of training epochs\n",
        "      debug (boolean): Debug mode toogle\n",
        "    \"\"\"\n",
        "\n",
        "    since = time.time()\n",
        "    best_model_wts = copy.deepcopy(vgg.state_dict())\n",
        "    best_acc = 0.0\n",
        "    avg_loss = 0\n",
        "    avg_acc = 0\n",
        "    avg_loss_val = 0\n",
        "    avg_acc_val = 0\n",
        "    \n",
        "    train_batches = len(dataloader)\n",
        "    val_batches = len(dataloader)\n",
        "    \n",
        "    for epoch in range(num_epochs):\n",
        "        print(\"Epoch {}/{}\".format(epoch, num_epochs))\n",
        "        print('-' * 10)\n",
        "        \n",
        "        loss_train = 0\n",
        "        loss_val = 0\n",
        "        acc_train = 0\n",
        "        acc_val = 0\n",
        "        target_true = 0\n",
        "        predicted_true = 0\n",
        "        correct_true = 0\n",
        "        \n",
        "        vgg.train(True)\n",
        "        clear_image_f1_data()\n",
        "        for inputs, classes in iter(dataloader):\n",
        "            if use_gpu:\n",
        "                sample, clas = Variable(inputs.cuda()), Variable(classes.cuda())\n",
        "            else:\n",
        "                sample, clas = Variable(inputs), Variable(classes)\n",
        "            \n",
        "            # addressing batch labels to list\n",
        "            batch_labels = []\n",
        "            for row in clas.data:\n",
        "              for i in range(len(row)):\n",
        "                if row[i] == 1:\n",
        "                  batch_labels.append(i)\n",
        "            \n",
        "            if use_gpu:\n",
        "              batch_labels = torch.tensor(batch_labels).cuda()\n",
        "            else:\n",
        "              batch_labels = torch.tensor(batch_labels)\n",
        "            \n",
        "            optimizer.zero_grad()\n",
        "            outputs = vgg(sample)\n",
        "\n",
        "            if debug==True:\n",
        "              print(outputs)\n",
        "              print(clas)\n",
        "\n",
        "            _, preds = torch.max(outputs.data, -1)\n",
        "            loss = criterion(outputs, clas)\n",
        "            \n",
        "            loss.backward()\n",
        "            optimizer.step()\n",
        "\n",
        "            update_image_f1_data(preds.squeeze().tolist(), batch_labels.squeeze().tolist())\n",
        "            \n",
        "            del sample, clas, outputs, preds\n",
        "            torch.cuda.empty_cache()\n",
        "        \n",
        "        epoch_train_macro_f1 = calculate_image_macro_f1()\n",
        "        \n",
        "        vgg.train(False)\n",
        "        vgg.eval()\n",
        "        clear_image_f1_data()    \n",
        "        for inputs, classes in iter(dataloader):\n",
        "            if use_gpu:\n",
        "                inputs, labels = Variable(inputs.cuda()), Variable(classes.cuda())\n",
        "            else:\n",
        "                inputs, labels = Variable(inputs), Variable(classes)\n",
        "\n",
        "            # addressing batch labels to list\n",
        "            batch_labels = []\n",
        "            for row in labels.data:\n",
        "              for i in range(len(row)):\n",
        "                if row[i] == 1:\n",
        "                  batch_labels.append(i)\n",
        "            \n",
        "            if use_gpu:\n",
        "              batch_labels = torch.tensor(batch_labels).cuda()\n",
        "            else:\n",
        "              batch_labels = torch.tensor(batch_labels)\n",
        "            \n",
        "            optimizer.zero_grad()\n",
        "            \n",
        "            outputs = vgg(inputs)\n",
        "            \n",
        "            # Prediction\n",
        "            _, preds = torch.max(outputs.data, 1)\n",
        "            if debug==True:\n",
        "              print(\"Preds: \",preds)\n",
        "            loss = criterion(outputs, labels)\n",
        "            if debug==True:\n",
        "              print(\"[1]Classes shape: \",classes.shape)\n",
        "              print(\"[1]Classes: \",classes)\n",
        "\n",
        "            classes = classes_convert(classes)\n",
        "            if debug==True:\n",
        "              print(\"[2]Classes: \",classes.shape)\n",
        "              print(\"[2]Classes: \",classes)\n",
        "            \n",
        "            update_image_f1_data(preds.squeeze().tolist(), batch_labels.squeeze().tolist())\n",
        "            del inputs, labels, outputs, preds\n",
        "            torch.cuda.empty_cache()\n",
        "        \n",
        "        epoch_val_macro_f1 = calculate_image_macro_f1()\n",
        "\n",
        "        print()\n",
        "        print(\"Epoch {} result: \".format(epoch))\n",
        "        print(\"F1 score: {:.4f} (train), {:.4f} (val)\".format(epoch_train_macro_f1, epoch_val_macro_f1))\n",
        "        print('-' * 10)\n",
        "        print()\n",
        "        \n",
        "        if avg_acc_val > best_acc:\n",
        "            best_acc = avg_acc_val\n",
        "            best_model_wts = copy.deepcopy(vgg.state_dict())\n",
        "        \n",
        "    elapsed_time = time.time() - since\n",
        "    print()\n",
        "    print(\"Training completed in {:.0f}m {:.0f}s\".format(elapsed_time // 60, elapsed_time % 60))\n",
        "    print(\"Best acc: {:.4f}\".format(best_acc))\n",
        "    \n",
        "    vgg.load_state_dict(best_model_wts)\n",
        "    return vgg"
      ],
      "metadata": {
        "id": "d_glLctDu338"
      },
      "execution_count": null,
      "outputs": []
    },
    {
      "cell_type": "code",
      "source": [
        "def text_classes_convert(classes):\n",
        "  y = classes\n",
        "  # Actual conversion using y elements as index \n",
        "  M = np.zeros(len(y))\n",
        "\n",
        "  for i in range(len(y)):\n",
        "    M[i]=torch.argmax(y[i])\n",
        "  return torch.tensor(M)"
      ],
      "metadata": {
        "id": "8HoqPaoUYVj_"
      },
      "execution_count": null,
      "outputs": []
    },
    {
      "cell_type": "code",
      "source": [
        "# Text model train\n",
        "\n",
        "if use_trained_model==False:\n",
        "    model_param = ModelParam(\n",
        "    param_dict=dict(\n",
        "        vocab_size=len(text_field.vocab),\n",
        "        input_size=50,\n",
        "        embedding_dim=100,\n",
        "        target_dim=4\n",
        "        )\n",
        "    )\n",
        "    train_text_model = TextModel(model_param)\n",
        "    loss_function = nn.BCELoss()\n",
        "    optimizer = optim.SGD(train_text_model.parameters(), lr=0.0003)\n",
        "\n",
        "    for epoch in range(text_epochs):\n",
        "        train_text_model.train()\n",
        "        clear_text_f1_data()\n",
        "        b_num = 0\n",
        "        epoch_num = 0\n",
        "        for batch in train_iter:\n",
        "            optimizer.zero_grad()\n",
        "            prediction = train_text_model(batch.text.T)\n",
        "            batch_label = batch.label.to(torch.float)\n",
        "            labels = text_classes_convert(batch_label)\n",
        "            preds = torch.flatten(torch.max(prediction, 1)[1]).float()\n",
        "            loss = loss_function(torch.squeeze(prediction), batch.label.to(torch.float))\n",
        "            update_text_f1_data(preds.squeeze().tolist(), labels.squeeze().tolist())\n",
        "            loss.backward()\n",
        "            optimizer.step()\n",
        "        \n",
        "        train_text_macro_f1 = calculate_text_macro_f1()\n",
        "        \n",
        "        train_text_model.eval()\n",
        "        clear_text_f1_data()\n",
        "        for batch in test_iter:\n",
        "            with torch.no_grad():\n",
        "                prediction = train_text_model(batch.text.T)\n",
        "                batch.label = batch.label.to(torch.float)\n",
        "                labels = text_classes_convert(batch_label)\n",
        "                preds = torch.flatten(torch.max(prediction, 1)[1]).float()\n",
        "                loss = loss_function(torch.squeeze(prediction), batch.label.to(torch.float))\n",
        "                update_text_f1_data(preds.squeeze().tolist(), labels.squeeze().tolist())\n",
        "        \n",
        "        val_text_macro_f1 = calculate_text_macro_f1()\n",
        "        print()\n",
        "        print(\"Epoch {} result: \".format(epoch))\n",
        "        print(\"F1 score: {:.4f} (train), {:.4f} (val)\".format(train_text_macro_f1, val_text_macro_f1))\n",
        "        print('-' * 10)\n",
        "        print()\n",
        "    if save_model:\n",
        "        torch.save(train_text_model.state_dict(), text_save_model_path)\n",
        "        print(\"Text model saved\")"
      ],
      "metadata": {
        "colab": {
          "base_uri": "https://localhost:8080/"
        },
        "id": "yjVN5puCYh1G",
        "outputId": "bbadebc3-d641-4478-b3cd-ee46a05bfee0"
      },
      "execution_count": null,
      "outputs": [
        {
          "output_type": "stream",
          "name": "stdout",
          "text": [
            "\n",
            "Epoch 0 result: \n",
            "F1 score: 0.1596 (train), 0.1004 (val)\n",
            "----------\n",
            "\n"
          ]
        }
      ]
    },
    {
      "cell_type": "code",
      "source": [
        "if use_trained_model==False:\n",
        "  vgg16 = train_model(vgg16, criterion, optimizer_ft, exp_lr_scheduler, num_epochs=image_epochs, debug=False)\n",
        "  if save_model:\n",
        "    torch.save(vgg16.state_dict(), image_save_model_path)\n",
        "    print(\"Image model saved\")"
      ],
      "metadata": {
        "id": "8V6CUYAQu6A6",
        "outputId": "bda80b25-cc1c-4b8c-d3b7-6390f22e0991",
        "colab": {
          "base_uri": "https://localhost:8080/"
        }
      },
      "execution_count": null,
      "outputs": [
        {
          "output_type": "stream",
          "name": "stdout",
          "text": [
            "Epoch 0/1\n",
            "----------\n"
          ]
        },
        {
          "output_type": "stream",
          "name": "stderr",
          "text": [
            "/usr/local/lib/python3.7/dist-packages/PIL/TiffImagePlugin.py:788: UserWarning: Corrupt EXIF data.  Expecting to read 2 bytes but only got 0. \n",
            "  warnings.warn(str(msg))\n",
            "/usr/local/lib/python3.7/dist-packages/PIL/Image.py:960: UserWarning: Palette images with Transparency expressed in bytes should be converted to RGBA images\n",
            "  \"Palette images with Transparency expressed in bytes should be \"\n"
          ]
        },
        {
          "output_type": "stream",
          "name": "stdout",
          "text": [
            "Precision: 0.2888436067244014 , Recall: 0.2801383399209486 \n",
            "Precision: 0.12298850574712644 , Recall: 0.25907990314769974 \n",
            "Precision: 0.5716339242932439 , Recall: 0.3006552419354839 \n",
            "Precision: 0.02594142259414226 , Recall: 0.18562874251497005 \n"
          ]
        },
        {
          "output_type": "stream",
          "name": "stderr",
          "text": [
            "/usr/local/lib/python3.7/dist-packages/PIL/TiffImagePlugin.py:788: UserWarning: Corrupt EXIF data.  Expecting to read 2 bytes but only got 0. \n",
            "  warnings.warn(str(msg))\n",
            "/usr/local/lib/python3.7/dist-packages/PIL/Image.py:960: UserWarning: Palette images with Transparency expressed in bytes should be converted to RGBA images\n",
            "  \"Palette images with Transparency expressed in bytes should be \"\n"
          ]
        },
        {
          "output_type": "stream",
          "name": "stdout",
          "text": [
            "Precision: 0.2669383596535914 , Recall: 0.28998339789706695 \n",
            "Precision: 0.12758620689655173 , Recall: 0.28388746803069054 \n",
            "Precision: 0.6430282702443699 , Recall: 0.30569476082004554 \n",
            "Precision: 0.0016736401673640166 , Recall: 0.3333333333333333 \n",
            "\n",
            "Epoch 0 result: \n",
            "F1 score: 0.2227 (train), 0.2179 (val)\n",
            "----------\n",
            "\n",
            "\n",
            "Training completed in 8m 10s\n",
            "Best acc: 0.0000\n"
          ]
        }
      ]
    },
    {
      "cell_type": "code",
      "source": [
        "text_model, image_model = None, None\n",
        "if use_trained_model:\n",
        "    text_model_dict = torch.load(text_load_model_path, map_location=torch.device('cpu') if not use_gpu else None)\n",
        "    image_model_dict = torch.load(image_load_model_path, map_location=torch.device('cpu') if not use_gpu else None)\n",
        "    image_model = custom_vgg16(vgg16)\n",
        "    model_param = ModelParam(\n",
        "    param_dict=dict(\n",
        "        vocab_size=len(text_field.vocab),\n",
        "        input_size=50,\n",
        "        embedding_dim=100,\n",
        "        target_dim=4\n",
        "        )\n",
        "    )\n",
        "    text_model = TextModel(model_param)\n",
        "    image_model.load_state_dict(image_model_dict)\n",
        "    text_model.load_state_dict(text_model_dict)\n",
        "else:\n",
        "    text_model = train_text_model\n",
        "    image_model = vgg16"
      ],
      "metadata": {
        "id": "a9_dXxxurkAt"
      },
      "execution_count": 16,
      "outputs": []
    },
    {
      "cell_type": "code",
      "source": [
        "print(text_model)\n",
        "print(image_model)"
      ],
      "metadata": {
        "colab": {
          "base_uri": "https://localhost:8080/"
        },
        "id": "V0CymgUquPvY",
        "outputId": "557d93dc-becf-4219-bab6-3518834aacff"
      },
      "execution_count": 17,
      "outputs": [
        {
          "output_type": "stream",
          "name": "stdout",
          "text": [
            "TextModel(\n",
            "  (embedding): Embedding(13676, 100)\n",
            "  (conv): Conv1d(50, 4, kernel_size=(1,), stride=(1,))\n",
            "  (max_pool): MaxPool1d(kernel_size=2, stride=2, padding=0, dilation=1, ceil_mode=False)\n",
            "  (lstm): LSTM(50, 16)\n",
            "  (fc): Linear(in_features=16, out_features=1, bias=True)\n",
            "  (sigm): Sigmoid()\n",
            ")\n",
            "custom_vgg16(\n",
            "  (features): Sequential(\n",
            "    (0): Conv2d(3, 64, kernel_size=(3, 3), stride=(1, 1), padding=(1, 1))\n",
            "    (1): BatchNorm2d(64, eps=1e-05, momentum=0.1, affine=True, track_running_stats=True)\n",
            "    (2): ReLU(inplace=True)\n",
            "    (3): Conv2d(64, 64, kernel_size=(3, 3), stride=(1, 1), padding=(1, 1))\n",
            "    (4): BatchNorm2d(64, eps=1e-05, momentum=0.1, affine=True, track_running_stats=True)\n",
            "    (5): ReLU(inplace=True)\n",
            "    (6): MaxPool2d(kernel_size=2, stride=2, padding=0, dilation=1, ceil_mode=False)\n",
            "    (7): Conv2d(64, 128, kernel_size=(3, 3), stride=(1, 1), padding=(1, 1))\n",
            "    (8): BatchNorm2d(128, eps=1e-05, momentum=0.1, affine=True, track_running_stats=True)\n",
            "    (9): ReLU(inplace=True)\n",
            "    (10): Conv2d(128, 128, kernel_size=(3, 3), stride=(1, 1), padding=(1, 1))\n",
            "    (11): BatchNorm2d(128, eps=1e-05, momentum=0.1, affine=True, track_running_stats=True)\n",
            "    (12): ReLU(inplace=True)\n",
            "    (13): MaxPool2d(kernel_size=2, stride=2, padding=0, dilation=1, ceil_mode=False)\n",
            "    (14): Conv2d(128, 256, kernel_size=(3, 3), stride=(1, 1), padding=(1, 1))\n",
            "    (15): BatchNorm2d(256, eps=1e-05, momentum=0.1, affine=True, track_running_stats=True)\n",
            "    (16): ReLU(inplace=True)\n",
            "    (17): Conv2d(256, 256, kernel_size=(3, 3), stride=(1, 1), padding=(1, 1))\n",
            "    (18): BatchNorm2d(256, eps=1e-05, momentum=0.1, affine=True, track_running_stats=True)\n",
            "    (19): ReLU(inplace=True)\n",
            "    (20): Conv2d(256, 256, kernel_size=(3, 3), stride=(1, 1), padding=(1, 1))\n",
            "    (21): BatchNorm2d(256, eps=1e-05, momentum=0.1, affine=True, track_running_stats=True)\n",
            "    (22): ReLU(inplace=True)\n",
            "    (23): MaxPool2d(kernel_size=2, stride=2, padding=0, dilation=1, ceil_mode=False)\n",
            "    (24): Conv2d(256, 512, kernel_size=(3, 3), stride=(1, 1), padding=(1, 1))\n",
            "    (25): BatchNorm2d(512, eps=1e-05, momentum=0.1, affine=True, track_running_stats=True)\n",
            "    (26): ReLU(inplace=True)\n",
            "    (27): Conv2d(512, 512, kernel_size=(3, 3), stride=(1, 1), padding=(1, 1))\n",
            "    (28): BatchNorm2d(512, eps=1e-05, momentum=0.1, affine=True, track_running_stats=True)\n",
            "    (29): ReLU(inplace=True)\n",
            "    (30): Conv2d(512, 512, kernel_size=(3, 3), stride=(1, 1), padding=(1, 1))\n",
            "    (31): BatchNorm2d(512, eps=1e-05, momentum=0.1, affine=True, track_running_stats=True)\n",
            "    (32): ReLU(inplace=True)\n",
            "    (33): MaxPool2d(kernel_size=2, stride=2, padding=0, dilation=1, ceil_mode=False)\n",
            "    (34): Conv2d(512, 512, kernel_size=(3, 3), stride=(1, 1), padding=(1, 1))\n",
            "    (35): BatchNorm2d(512, eps=1e-05, momentum=0.1, affine=True, track_running_stats=True)\n",
            "    (36): ReLU(inplace=True)\n",
            "    (37): Conv2d(512, 512, kernel_size=(3, 3), stride=(1, 1), padding=(1, 1))\n",
            "    (38): BatchNorm2d(512, eps=1e-05, momentum=0.1, affine=True, track_running_stats=True)\n",
            "    (39): ReLU(inplace=True)\n",
            "    (40): Conv2d(512, 512, kernel_size=(3, 3), stride=(1, 1), padding=(1, 1))\n",
            "    (41): BatchNorm2d(512, eps=1e-05, momentum=0.1, affine=True, track_running_stats=True)\n",
            "    (42): ReLU(inplace=True)\n",
            "    (43): MaxPool2d(kernel_size=2, stride=2, padding=0, dilation=1, ceil_mode=False)\n",
            "  )\n",
            "  (pooling): AdaptiveAvgPool2d(output_size=(7, 7))\n",
            "  (flatten): Flatten(start_dim=1, end_dim=-1)\n",
            "  (fc): Linear(in_features=25088, out_features=4, bias=True)\n",
            "  (sigm): Sigmoid()\n",
            ")\n"
          ]
        }
      ]
    },
    {
      "cell_type": "code",
      "source": [
        "def get_labels_as_indices(labels_data):\n",
        "    return torch.flatten(torch.max(labels_data, 1)[1]).float()"
      ],
      "metadata": {
        "id": "kIIs7eKhas9D"
      },
      "execution_count": 45,
      "outputs": []
    },
    {
      "cell_type": "code",
      "source": [
        "def predict(image_data, text_data):\n",
        "    image_pred = image_model(image_data)\n",
        "    text_pred = torch.squeeze(text_model(text_data))\n",
        "    preds = image_pred*0.3 + text_pred*0.7\n",
        "    images_preds = get_labels_as_indices(image_pred)\n",
        "    text_preds = get_labels_as_indices(text_pred)\n",
        "    print(f\"Image pred: {images_preds}\")\n",
        "    print(f\"Text pred: {text_preds}\")\n",
        "    preds = get_labels_as_indices(preds)\n",
        "    return preds"
      ],
      "metadata": {
        "id": "1dz2aOItwvhp"
      },
      "execution_count": 46,
      "outputs": []
    },
    {
      "cell_type": "code",
      "source": [
        "image_inputs, image_classes = next(iter(dataloader))\n",
        "text_data = next(iter(train_iter))\n",
        "\n",
        "preds = predict(image_inputs, text_data.text.T)\n",
        "\n",
        "print(preds)\n",
        "print(get_labels_as_indices(image_classes))\n",
        "print(get_labels_as_indices(text_data.label))"
      ],
      "metadata": {
        "id": "kITwhpuTxgX6",
        "outputId": "c77acf6d-a636-4df1-f4e6-0f850bfafc1b",
        "colab": {
          "base_uri": "https://localhost:8080/"
        }
      },
      "execution_count": 47,
      "outputs": [
        {
          "output_type": "stream",
          "name": "stdout",
          "text": [
            "Image pred: tensor([2., 2., 2., 3.])\n",
            "Text pred: tensor([3., 0., 3., 3.])\n",
            "tensor([2., 2., 3., 3.])\n",
            "tensor([2., 1., 0., 3.])\n",
            "tensor([1., 1., 0., 2.])\n"
          ]
        }
      ]
    }
  ]
}